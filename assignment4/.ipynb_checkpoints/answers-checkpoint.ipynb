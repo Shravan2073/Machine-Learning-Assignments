{
 "cells": [
  {
   "cell_type": "code",
   "execution_count": null,
   "id": "1a3d5fac",
   "metadata": {
    "vscode": {
     "languageId": "plaintext"
    }
   },
   "outputs": [],
   "source": [
    "import numpy as np\n",
    "import pandas as pd\n",
    "import matplotlib.pyplot as plt\n",
    "from sklearn.model_selection import train_test_split, GridSearchCV\n",
    "from sklearn.neighbors import KNeighborsClassifier\n",
    "from sklearn.linear_model import LinearRegression\n",
    "from sklearn.metrics import (\n",
    "    confusion_matrix,\n",
    "    classification_report,\n",
    "    mean_squared_error,\n",
    "    mean_absolute_percentage_error,\n",
    "    r2_score\n",
    ")\n"
   ]
  },
  {
   "cell_type": "code",
   "execution_count": null,
   "id": "2220f0bf",
   "metadata": {
    "vscode": {
     "languageId": "plaintext"
    }
   },
   "outputs": [],
   "source": [
    "def evaluate_knn_classifier(X, y, k=3):\n",
    "    X_train, X_test, y_train, y_test = train_test_split(X, y, test_size=0.3, random_state=42)\n",
    "    knn = KNeighborsClassifier(n_neighbors=k)\n",
    "    knn.fit(X_train, y_train)\n",
    "\n",
    "    y_train_pred = knn.predict(X_train)\n",
    "    y_test_pred = knn.predict(X_test)\n",
    "\n",
    "    return {\n",
    "        'train_conf_matrix': confusion_matrix(y_train, y_train_pred),\n",
    "        'train_report': classification_report(y_train, y_train_pred, output_dict=True),\n",
    "        'test_conf_matrix': confusion_matrix(y_test, y_test_pred),\n",
    "        'test_report': classification_report(y_test, y_test_pred, output_dict=True),\n",
    "    }\n"
   ]
  },
  {
   "cell_type": "code",
   "execution_count": null,
   "id": "523d2eb3",
   "metadata": {
    "vscode": {
     "languageId": "plaintext"
    }
   },
   "outputs": [],
   "source": [
    "def evaluate_regression_metrics(X, y):\n",
    "    X_train, X_test, y_train, y_test = train_test_split(X, y, test_size=0.3, random_state=42)\n",
    "    model = LinearRegression()\n",
    "    model.fit(X_train, y_train)\n",
    "    y_pred = model.predict(X_test)\n",
    "\n",
    "    return {\n",
    "        'mse': mean_squared_error(y_test, y_pred),\n",
    "        'rmse': np.sqrt(mean_squared_error(y_test, y_pred)),\n",
    "        'mape': mean_absolute_percentage_error(y_test, y_pred),\n",
    "        'r2': r2_score(y_test, y_pred)\n",
    "    }\n"
   ]
  },
  {
   "cell_type": "code",
   "execution_count": null,
   "id": "5b41f50c",
   "metadata": {
    "vscode": {
     "languageId": "plaintext"
    }
   },
   "outputs": [],
   "source": [
    "def generate_synthetic_training_data(n=20, seed=42):\n",
    "    np.random.seed(seed)\n",
    "    X = np.random.uniform(1, 10, size=(n, 2))\n",
    "    y = np.array([0 if x + y < 12 else 1 for x, y in X])\n",
    "    return X, y\n",
    "\n",
    "def plot_training_data(X, y):\n",
    "    plt.figure(figsize=(6,6))\n",
    "    for i in range(len(X)):\n",
    "        color = 'blue' if y[i] == 0 else 'red'\n",
    "        plt.scatter(X[i][0], X[i][1], color=color)\n",
    "    plt.title(\"Synthetic Training Data\")\n",
    "    plt.xlabel(\"X\")\n",
    "    plt.ylabel(\"Y\")\n",
    "    plt.grid(True)\n",
    "    plt.show()\n"
   ]
  },
  {
   "cell_type": "code",
   "execution_count": null,
   "id": "6489fb32",
   "metadata": {
    "vscode": {
     "languageId": "plaintext"
    }
   },
   "outputs": [],
   "source": [
    "def classify_grid(X_train, y_train, k=3):\n",
    "    x_vals = np.arange(0, 10.1, 0.1)\n",
    "    y_vals = np.arange(0, 10.1, 0.1)\n",
    "    xx, yy = np.meshgrid(x_vals, y_vals)\n",
    "    test_points = np.c_[xx.ravel(), yy.ravel()]\n",
    "\n",
    "    knn = KNeighborsClassifier(n_neighbors=k)\n",
    "    knn.fit(X_train, y_train)\n",
    "    preds = knn.predict(test_points)\n",
    "\n",
    "    return test_points, preds\n",
    "\n",
    "def plot_classified_grid(test_points, preds, X_train, y_train, k):\n",
    "    plt.figure(figsize=(8,8))\n",
    "    plt.scatter(test_points[:, 0], test_points[:, 1], c=preds, cmap='bwr', alpha=0.3, s=1)\n",
    "    plt.scatter(X_train[:, 0], X_train[:, 1], c=y_train, cmap='bwr', edgecolors='k', s=50)\n",
    "    plt.title(f\"Grid Classification (k={k})\")\n",
    "    plt.xlabel(\"X\")\n",
    "    plt.ylabel(\"Y\")\n",
    "    plt.grid(True)\n",
    "    plt.show()\n"
   ]
  },
  {
   "cell_type": "code",
   "execution_count": null,
   "id": "0c1ac2ed",
   "metadata": {
    "vscode": {
     "languageId": "plaintext"
    }
   },
   "outputs": [],
   "source": [
    "def classify_and_plot_for_multiple_k(X_train, y_train, k_values):\n",
    "    for k in k_values:\n",
    "        test_points, preds = classify_grid(X_train, y_train, k)\n",
    "        plot_classified_grid(test_points, preds, X_train, y_train, k)\n"
   ]
  },
  {
   "cell_type": "code",
   "execution_count": null,
   "id": "07428546",
   "metadata": {
    "vscode": {
     "languageId": "plaintext"
    }
   },
   "outputs": [],
   "source": [
    "def classify_project_data(df, feature_cols, target_col, k=3):\n",
    "    X = df[feature_cols].to_numpy()\n",
    "    y = df[target_col].to_numpy()\n",
    "    test_points, preds = classify_grid(X, y, k)\n",
    "    plot_classified_grid(test_points, preds, X, y, k)\n"
   ]
  },
  {
   "cell_type": "code",
   "execution_count": null,
   "id": "7564214e",
   "metadata": {
    "vscode": {
     "languageId": "plaintext"
    }
   },
   "outputs": [],
   "source": [
    "def find_best_k(df, feature_cols, target_col, k_range=range(1, 20, 2)):\n",
    "    X = df[feature_cols]\n",
    "    y = df[target_col]\n",
    "    param_grid = {'n_neighbors': list(k_range)}\n",
    "    grid = GridSearchCV(KNeighborsClassifier(), param_grid, cv=5)\n",
    "    grid.fit(X, y)\n",
    "    return grid.best_params_, grid.best_score_\n"
   ]
  },
  {
   "cell_type": "code",
   "execution_count": null,
   "id": "bab7b838",
   "metadata": {
    "vscode": {
     "languageId": "plaintext"
    }
   },
   "outputs": [],
   "source": [
    "### Main Execution Block\n",
    "\n",
    "# Load your dataset\n",
    "df = pd.read_csv(\"DCT_mal.csv\")\n",
    "numeric_cols = df.select_dtypes(include=np.number).columns.tolist()\n",
    "\n",
    "# Choose 2 features and 1 target\n",
    "feature_cols = numeric_cols[:2]\n",
    "target_col = numeric_cols[-1]\n",
    "\n",
    "# A1\n",
    "results_a1 = evaluate_knn_classifier(df[feature_cols], df[target_col])\n",
    "print(\"A1 - Training Confusion Matrix:\\n\", results_a1['train_conf_matrix'])\n",
    "print(\"A1 - Testing Confusion Matrix:\\n\", results_a1['test_conf_matrix'])\n",
    "\n",
    "# A2\n",
    "results_a2 = evaluate_regression_metrics(df[feature_cols], df[numeric_cols[2]])\n",
    "print(\"\\nA2 - Regression Metrics:\")\n",
    "print(results_a2)\n",
    "\n",
    "# A3\n",
    "X_syn, y_syn = generate_synthetic_training_data()\n",
    "plot_training_data(X_syn, y_syn)\n",
    "\n",
    "# A4\n",
    "test_pts, preds = classify_grid(X_syn, y_syn, k=3)\n",
    "plot_classified_grid(test_pts, preds, X_syn, y_syn, k=3)\n",
    "\n",
    "# A5\n",
    "classify_and_plot_for_multiple_k(X_syn, y_syn, k_values=[1, 3, 5, 7, 9])\n",
    "\n",
    "# A6\n",
    "classify_project_data(df, feature_cols, target_col, k=3)\n",
    "\n",
    "# A7\n",
    "best_k, best_score = find_best_k(df, feature_cols, target_col)\n",
    "print(\"\\nA7 - Best k value:\", best_k)\n",
    "print(\"A7 - Best cross-validation score:\", best_score)\n"
   ]
  }
 ],
 "metadata": {
  "language_info": {
   "name": "python"
  }
 },
 "nbformat": 4,
 "nbformat_minor": 5
}
