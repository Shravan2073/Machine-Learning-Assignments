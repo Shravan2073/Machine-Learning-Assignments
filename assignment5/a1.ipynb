{
    "cells": [
        {
            "cell_type": "code",
            "execution_count": null,
            "id": "4bf9b852",
            "metadata": {
                "vscode": {
                    "languageId": "plaintext"
                }
            },
            "outputs": [],
            "source": [
                "import numpy as np\n",
                "import pandas as pd\n",
                "import matplotlib.pyplot as plt\n",
                "import seaborn as sns\n",
                "from sklearn.model_selection import train_test_split, GridSearchCV\n",
                "from sklearn.neighbors import KNeighborsClassifier\n",
                "from sklearn.linear_model import LinearRegression\n",
                "from sklearn.metrics import (\n",
                "    confusion_matrix,\n",
                "    classification_report,\n",
                "    mean_squared_error,\n",
                "    mean_absolute_percentage_error,\n",
                "    r2_score\n",
                ")\n",
                "from sklearn.utils import resample\n"
            ]
        }
    ],
    "metadata": {
        "language_info": {
            "name": "python"
        }
    },
    "nbformat": 4,
    "nbformat_minor": 5
}
